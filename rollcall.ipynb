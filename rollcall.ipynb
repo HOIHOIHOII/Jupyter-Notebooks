{
 "cells": [
  {
   "cell_type": "markdown",
   "metadata": {},
   "source": [
    "\n",
    "Add to list of programs that run on startup.\n",
    "\n",
    "Refresh cycle:\n",
    "\n",
    "1. Get last record of folders in directory. <-read a text file\n",
    "2. Get new record of folders in directory. <-call dir or smething, then process\n",
    "3. Note subtractions, additions. <- string comparison\n",
    "4. Notify if subtraction. <-sys_notify"
   ]
  },
  {
   "cell_type": "code",
   "execution_count": 31,
   "metadata": {},
   "outputs": [
    {
     "name": "stdout",
     "output_type": "stream",
     "text": [
      "['blah', 'fol1', 'fol10', 'fol11', 'fol2', 'fol3', 'fol4', 'fol5', 'fol6', 'fol7', 'fol8', 'fol9', 'text1.txt', 'text2.txt']\n",
      "['fol1', 'fol10', 'fol11', 'fol2', 'fol3', 'fol4', 'fol5', 'fol6', 'fol7', 'fol8', 'fol9', 'text1.txt', 'text2.txt']\n",
      "[]\n",
      "['blah']\n"
     ]
    }
   ],
   "source": [
    "import csv\n",
    "import sys\n",
    "import os\n",
    "import datetime\n",
    "\n",
    "\n",
    "last_record_path = r\"C:\\Users\\AI\\Documents\\Projects\\Python\\rollcall script\\PracticeDir\"\n",
    "\n",
    "current_records = os.listdir(last_record_path)\n",
    "last_records = []        \n",
    "        \n",
    "with open(\"last_record.txt\",\"rb\") as f:\n",
    "    for line in f:\n",
    "        last_records.append(line.strip())  \n",
    "\n",
    "additions = [x for x in current_records if x not in last_records]\n",
    "deletions = [x for x in last_records if x not in current_records]\n",
    "\n",
    "print last_records\n",
    "print current_records\n",
    "print additions \n",
    "print deletions\n",
    "\n",
    "with open(\"last_record.txt\",\"wb\") as f:\n",
    "    writer = csv.writer(f, delimiter = \",\")\n",
    "    for line in current_records:\n",
    "        writer.writerow([line])\n",
    "\n",
    "if len(deletions) > 0:\n",
    "    with open(\"deletions.txt\",\"ab\") as f:\n",
    "        writer = csv.writer(f, delimiter = \",\")\n",
    "        for line in deletions:\n",
    "            writer.writerow([line,\" Noticed at {0}\".format(datetime.datetime.now())])"
   ]
  },
  {
   "cell_type": "code",
   "execution_count": 27,
   "metadata": {},
   "outputs": [
    {
     "name": "stdout",
     "output_type": "stream",
     "text": [
      "2018-02-24 18:05:20.648000\n"
     ]
    }
   ],
   "source": []
  }
 ],
 "metadata": {
  "kernelspec": {
   "display_name": "Python 2",
   "language": "python",
   "name": "python2"
  },
  "language_info": {
   "codemirror_mode": {
    "name": "ipython",
    "version": 2
   },
   "file_extension": ".py",
   "mimetype": "text/x-python",
   "name": "python",
   "nbconvert_exporter": "python",
   "pygments_lexer": "ipython2",
   "version": "2.7.14"
  }
 },
 "nbformat": 4,
 "nbformat_minor": 2
}
